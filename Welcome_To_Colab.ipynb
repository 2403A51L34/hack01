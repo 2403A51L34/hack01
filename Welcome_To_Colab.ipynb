{
  "cells": [
    {
      "cell_type": "markdown",
      "metadata": {
        "id": "view-in-github",
        "colab_type": "text"
      },
      "source": [
        "<a href=\"https://colab.research.google.com/github/2403A51L34/hack01/blob/main/Welcome_To_Colab.ipynb\" target=\"_parent\"><img src=\"https://colab.research.google.com/assets/colab-badge.svg\" alt=\"Open In Colab\"/></a>"
      ]
    },
    {
      "cell_type": "code",
      "source": [
        "import pandas as pd\n",
        "import matplotlib.pyplot as plt\n",
        "import numpy as np\n",
        "\n",
        "# -------------------------\n",
        "# Step 1: Create dummy health dataset\n",
        "# -------------------------\n",
        "np.random.seed(42)  # reproducibility\n",
        "villages = [\"Village A\", \"Village B\", \"Village C\", \"Village D\", \"Village E\"]\n",
        "\n",
        "# Generate 200 dummy patient reports\n",
        "data = {\n",
        "    \"Village\": np.random.choice(villages, 200),\n",
        "    \"Symptom1\": np.random.choice([\"diarrhea\", \"cough\", \"fever\", \"headache\"], 200),\n",
        "    \"Symptom2\": np.random.choice([\"fever\", \"vomiting\", \"cold\", \"diarrhea\"], 200)\n",
        "}\n",
        "df = pd.DataFrame(data)\n",
        "\n",
        "# -------------------------\n",
        "# Step 2: Apply outbreak rule\n",
        "# -------------------------\n",
        "# A case is valid if both symptoms include \"diarrhea\" and \"fever\"\n",
        "df[\"Diarrhea+Fever\"] = df.apply(\n",
        "    lambda row: (\"diarrhea\" in [row[\"Symptom1\"], row[\"Symptom2\"]])\n",
        "                and (\"fever\" in [row[\"Symptom1\"], row[\"Symptom2\"]]), axis=1\n",
        ")\n",
        "\n",
        "# Count per village\n",
        "alert_counts = df[df[\"Diarrhea+Fever\"]].groupby(\"Village\").size()\n",
        "\n",
        "# -------------------------\n",
        "# Step 3: Plot Bar Chart\n",
        "# -------------------------\n",
        "plt.figure(figsize=(8, 5))\n",
        "bars = plt.bar(alert_counts.index, alert_counts.values, color=\"skyblue\", edgecolor=\"black\")\n",
        "\n",
        "# Highlight bars where cases >= 5 (possible outbreak)\n",
        "for bar, count in zip(bars, alert_counts.values):\n",
        "    if count >= 5:\n",
        "        bar.set_color(\"red\")  # outbreak\n",
        "    plt.text(bar.get_x() + bar.get_width()/2, bar.get_height() + 0.2,\n",
        "             str(count), ha=\"center\", fontsize=10)\n",
        "\n",
        "plt.title(\"Possible Outbreak Alerts (Diarrhea + Fever cases)\", fontsize=14)\n",
        "plt.xlabel(\"Village\", fontsize=12)\n",
        "plt.ylabel(\"Number of Cases\", fontsize=12)\n",
        "plt.tight_layout()\n",
        "plt.show()\n"
      ],
      "metadata": {
        "id": "J3f_M_lCsW8l"
      },
      "execution_count": null,
      "outputs": []
    }
  ],
  "metadata": {
    "colab": {
      "name": "Welcome To Colab",
      "provenance": [],
      "include_colab_link": true
    },
    "kernelspec": {
      "display_name": "Python 3",
      "name": "python3"
    }
  },
  "nbformat": 4,
  "nbformat_minor": 0
}